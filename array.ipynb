{
 "cells": [
  {
   "cell_type": "code",
   "execution_count": 1,
   "id": "a8e20023",
   "metadata": {},
   "outputs": [
    {
     "name": "stdout",
     "output_type": "stream",
     "text": [
      "[[1 2 3]\n",
      " [4 5 6]\n",
      " [7 8 9]]\n",
      "\n",
      "[['1' '2' '3']\n",
      " ['4' '5' '6']\n",
      " ['7' '8' '9']]\n",
      "\n",
      "[['1', '2', '3'], ['4', '5', '6'], ['7', '8', '9']]\n",
      "\n",
      "\n",
      "The shape of the array is: (3, 3)\n",
      "The size of the array is: 9\n"
     ]
    }
   ],
   "source": [
    "import numpy as np\n",
    "list1 = [[1,2,3], [4,5,6], [7,8,9]]\n",
    "array1 = np.array(list1, dtype = 'int')\n",
    "print(array1)\n",
    "print()\n",
    "array2 = array1.astype('int').astype('str')\n",
    "print(array2)\n",
    "print()\n",
    "mylist = array2.tolist()\n",
    "print(mylist)\n",
    "print()\n",
    "print()\n",
    "print(\"The shape of the array is:\", array1.shape)\n",
    "print(\"The size of the array is:\", array1.size)"
   ]
  },
  {
   "cell_type": "code",
   "execution_count": 2,
   "id": "0158789c",
   "metadata": {},
   "outputs": [
    {
     "name": "stdout",
     "output_type": "stream",
     "text": [
      "[10. 11. 12.]\n",
      "[13. 14. 15.]\n"
     ]
    }
   ],
   "source": [
    "listx =[10,11,12]\n",
    "newarr = np.array(listx,dtype = 'float')\n",
    "print(newarr)\n",
    "newarr = newarr+3\n",
    "print(newarr)"
   ]
  },
  {
   "cell_type": "code",
   "execution_count": 3,
   "id": "aaeea941",
   "metadata": {},
   "outputs": [
    {
     "name": "stdout",
     "output_type": "stream",
     "text": [
      "[[ 0.  3.  4.]\n",
      " [ 5.  6.  7.]\n",
      " [ 8.  9. 10.]]\n",
      "\n",
      "[[False  True  True]\n",
      " [ True  True  True]\n",
      " [ True  True  True]]\n"
     ]
    }
   ],
   "source": [
    "list2 = [0,3,4,],[5,6,7],[8,9,10]\n",
    "array3 = np.array(list2, dtype = 'float')\n",
    "print(array3)\n",
    "print()\n",
    "boo = array3>=2\n",
    "print(boo)\n"
   ]
  }
 ],
 "metadata": {
  "kernelspec": {
   "display_name": "Python 3 (ipykernel)",
   "language": "python",
   "name": "python3"
  },
  "language_info": {
   "codemirror_mode": {
    "name": "ipython",
    "version": 3
   },
   "file_extension": ".py",
   "mimetype": "text/x-python",
   "name": "python",
   "nbconvert_exporter": "python",
   "pygments_lexer": "ipython3",
   "version": "3.9.12"
  }
 },
 "nbformat": 4,
 "nbformat_minor": 5
}
