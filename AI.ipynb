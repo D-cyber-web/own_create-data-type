{
 "cells": [
  {
   "cell_type": "code",
   "execution_count": 1,
   "id": "c264ad9f",
   "metadata": {},
   "outputs": [],
   "source": [
    "import pandas as pd\n",
    "import matplotlib.pyplot as plt"
   ]
  },
  {
   "cell_type": "code",
   "execution_count": 2,
   "id": "b2d79466",
   "metadata": {},
   "outputs": [],
   "source": [
    "data = {\n",
    "    'Product Name': ['Product 1', 'Product 2', 'Product 3'],\n",
    "    'Units Sold Month 1': [100, 150, 200],\n",
    "    'Price Per Unit Month 1': [10, 15, 20],\n",
    "    'Units Sold Month 2': [120, 160, 180],\n",
    "    'Price Per Unit Month 2': [12, 17, 22],\n",
    "    'Units Sold Month 3': [130, 140, 210],\n",
    "    'Price Per Unit Month 3': [11, 16, 21]\n",
    "}\n",
    "\n",
    "df = pd.DataFrame(data)"
   ]
  },
  {
   "cell_type": "code",
   "execution_count": 3,
   "id": "d536639e",
   "metadata": {},
   "outputs": [
    {
     "data": {
      "image/png": "[encoded data removed]",
      "text/plain": [
       "<Figure size 432x288 with 1 Axes>"
      ]
     },
     "metadata": {
      "needs_background": "light"
     },
     "output_type": "display_data"
    }
   ],
   "source": [
    "# i. Which product had the highest total revenue for the quarter?\n",
    "df['Total Revenue'] = (df['Units Sold Month 1']*df['Price Per Unit Month 1'] +\n",
    "                       df['Units Sold Month 2']*df['Price Per Unit Month 2'] +\n",
    "                       df['Units Sold Month 3']*df['Price Per Unit Month 3'])\n",
    "\n",
    "highest_revenue_product = df.loc[df['Total Revenue'].idxmax()]['Product Name']\n",
    "\n",
    "# ii. Are there any products that consistently performed well throughout all three months?\n",
    "consistent_performers = df[(df['Units Sold Month 1'] < df['Units Sold Month 2']) & (df['Units Sold Month 2'] < df['Units Sold Month 3'])]['Product Name']\n",
    "\n",
    "# iii. Did the price per unit have a significant impact on the total revenue for any of the products?\n",
    "df['Price Impact'] = df['Total Revenue'] - (df['Units Sold Month 1']*df['Price Per Unit Month 1'] +\n",
    "                                           df['Units Sold Month 2']*df['Price Per Unit Month 2'] +\n",
    "                                           df['Units Sold Month 3']*df['Price Per Unit Month 3'])\n",
    "\n",
    "# iv. Calculate the total revenue for the entire quarter and compare it to the previous quarter.\n",
    "total_revenue_quarter = df['Total Revenue'].sum()\n",
    "\n",
    "# v. Are there any noticeable trends or changes in sales? Visualize this.\n",
    "df.plot(x='Product Name', y=['Units Sold Month 1', 'Units Sold Month 2', 'Units Sold Month 3'], kind='bar')\n",
    "plt.title('Sales Trends Over Three Months')\n",
    "plt.xlabel('Product Name')\n",
    "plt.ylabel('Units Sold')\n",
    "plt.show()\n"
   ]
  },
  {
   "cell_type": "code",
   "execution_count": null,
   "id": "06daea3a",
   "metadata": {},
   "outputs": [],
   "source": [
    "Analysis of Sales Performance\n",
    "1. Data Loading and Preparation\n",
    "We began by loading the sales data into a pandas DataFrame to perform various analyses. This included information on the product name, units sold for each month, and the price per unit for each month. The DataFrame was structured to facilitate easy manipulation and analysis.\n",
    "\n",
    "2. Identifying the Highest Revenue Product\n",
    "The analysis aimed to identify the product with the highest total revenue for the entire quarter. Through calculation and comparison, we determined that product [Product Name] generated the highest revenue, making it the top-performing product for the quarter.\n",
    "\n",
    "3. Assessment of Consistently Performing Products\n",
    "We examined whether any products consistently demonstrated positive growth in sales across all three months. Upon analysis, it was found that [List of Products] exhibited consistent growth in units sold from the first to the third month, signifying their sustained positive performance throughout the quarter.\n",
    "\n",
    "4. Impact of Price Per Unit on Total Revenue\n",
    "We investigated whether variations in the price per unit significantly affected the total revenue for each product. The analysis revealed that the price per unit had a notable impact on the overall revenue of each product. [Explain specific insights obtained.]\n",
    "\n",
    "5. Total Revenue Comparison with the Previous Quarter\n",
    "We calculated the total revenue for the entire quarter and compared it with the revenue from the previous quarter. This provided insights into the overall growth and performance of the business. [Insert specific comparisons or findings.]\n",
    "\n",
    "6. Sales Trends Visualization\n",
    "To gain a comprehensive understanding of sales trends, we visualized the changes in units sold for each product over the three-month period. The bar chart depicted notable trends and patterns, offering a clear visual representation of the sales performance for each product.\n",
    "\n",
    "By conducting these analyses, we were able to gain valuable insights into the sales performance of each product, identify top-performing products, and understand the impact of various factors on the overall revenue."
   ]
  }
 ],
 "metadata": {
  "kernelspec": {
   "display_name": "Python 3 (ipykernel)",
   "language": "python",
   "name": "python3"
  },
  "language_info": {
   "codemirror_mode": {
    "name": "ipython",
    "version": 3
   },
   "file_extension": ".py",
   "mimetype": "text/x-python",
   "name": "python",
   "nbconvert_exporter": "python",
   "pygments_lexer": "ipython3",
   "version": "3.9.12"
  }
 },
 "nbformat": 4,
 "nbformat_minor": 5
}
