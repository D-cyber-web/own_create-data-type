{
 "cells": [
  {
   "cell_type": "code",
   "execution_count": 7,
   "id": "aeb58a47",
   "metadata": {},
   "outputs": [
    {
     "name": "stdout",
     "output_type": "stream",
     "text": [
      "       calories  duration  age  height  weight\n",
      "day1        450        30   23     2.0      50\n",
      "day2        470        50   24     1.5      56\n",
      "day3        490        20   27     3.0      65\n",
      "day4        444        33   39     1.0      60\n",
      "day5        545        44   40     2.5      66\n",
      "day6        666        22   52     4.0      70\n",
      "day7        774        26   19     3.0      73\n",
      "day8        838        77   26     1.0      75\n",
      "day9        666        44   20     2.1      80\n",
      "day10       990        42   45     3.5      53\n"
     ]
    },
    {
     "ename": "AttributeError",
     "evalue": "'dict' object has no attribute 'savefig'",
     "output_type": "error",
     "traceback": [
      "\u001b[1;31m---------------------------------------------------------------------------\u001b[0m",
      "\u001b[1;31mAttributeError\u001b[0m                            Traceback (most recent call last)",
      "Input \u001b[1;32mIn [7]\u001b[0m, in \u001b[0;36m<cell line: 12>\u001b[1;34m()\u001b[0m\n\u001b[0;32m      9\u001b[0m myvar \u001b[38;5;241m=\u001b[39m pd\u001b[38;5;241m.\u001b[39mDataFrame(data,index\u001b[38;5;241m=\u001b[39m[\u001b[38;5;124m\"\u001b[39m\u001b[38;5;124mday1\u001b[39m\u001b[38;5;124m\"\u001b[39m, \u001b[38;5;124m\"\u001b[39m\u001b[38;5;124mday2\u001b[39m\u001b[38;5;124m\"\u001b[39m, \u001b[38;5;124m\"\u001b[39m\u001b[38;5;124mday3\u001b[39m\u001b[38;5;124m\"\u001b[39m, \u001b[38;5;124m\"\u001b[39m\u001b[38;5;124mday4\u001b[39m\u001b[38;5;124m\"\u001b[39m, \u001b[38;5;124m\"\u001b[39m\u001b[38;5;124mday5\u001b[39m\u001b[38;5;124m\"\u001b[39m, \u001b[38;5;124m\"\u001b[39m\u001b[38;5;124mday6\u001b[39m\u001b[38;5;124m\"\u001b[39m, \u001b[38;5;124m\"\u001b[39m\u001b[38;5;124mday7\u001b[39m\u001b[38;5;124m\"\u001b[39m, \u001b[38;5;124m\"\u001b[39m\u001b[38;5;124mday8\u001b[39m\u001b[38;5;124m\"\u001b[39m, \u001b[38;5;124m\"\u001b[39m\u001b[38;5;124mday9\u001b[39m\u001b[38;5;124m\"\u001b[39m, \u001b[38;5;124m\"\u001b[39m\u001b[38;5;124mday10\u001b[39m\u001b[38;5;124m\"\u001b[39m])\n\u001b[0;32m     11\u001b[0m \u001b[38;5;28mprint\u001b[39m(myvar)\n\u001b[1;32m---> 12\u001b[0m \u001b[43mdata\u001b[49m\u001b[38;5;241;43m.\u001b[39;49m\u001b[43msavefig\u001b[49m(\u001b[38;5;124m'\u001b[39m\u001b[38;5;124mrecord_subplots.png\u001b[39m\u001b[38;5;124m'\u001b[39m,bbox_inches\u001b[38;5;241m=\u001b[39m\u001b[38;5;124m'\u001b[39m\u001b[38;5;124mtight\u001b[39m\u001b[38;5;124m'\u001b[39m)\n",
      "\u001b[1;31mAttributeError\u001b[0m: 'dict' object has no attribute 'savefig'"
     ]
    }
   ],
   "source": [
    "import pandas as pd\n",
    "\n",
    "data = {\"calories\":[450, 470, 490,444,545,666,774,838,666,990],\n",
    "        \"duration\":[30, 50, 20,33,44,22,26,77,44,42],\n",
    "       \"age\":[23,24,27,39,40,52,19,26,20,45],\n",
    "       \"height\":[2,1.5,3,1,2.5,4,3,1,2.1,3.5],\n",
    "       \"weight\":[50,56,65,60,66,70,73,75,80,53]}\n",
    "\n",
    "myvar = pd.DataFrame(data,index=[\"day1\", \"day2\", \"day3\", \"day4\", \"day5\", \"day6\", \"day7\", \"day8\", \"day9\", \"day10\"])\n",
    "                     \n",
    "print(myvar)\n",
    "data.savefig('record_subplots.png',bbox_inches='tight')"
   ]
  },
  {
   "cell_type": "code",
   "execution_count": 3,
   "id": "5238b871",
   "metadata": {},
   "outputs": [
    {
     "name": "stdout",
     "output_type": "stream",
     "text": [
      "day1    1.0\n",
      "day2    2.0\n",
      "day3    3.0\n",
      "day4    4.5\n",
      "day5    5.0\n",
      "day6    6.0\n",
      "day7    7.0\n",
      "day8    8.0\n",
      "day9    9.1\n",
      "dtype: float64\n"
     ]
    }
   ],
   "source": [
    "import pandas as pd\n",
    "myseries = pd.Series([1,2,3,4.5,5,6,7,8,9.1], index=[\"day1\", \"day2\", \"day3\", \"day4\", \"day5\", \"day6\", \"day7\", \"day8\", \"day9\"])\n",
    "print(myseries)"
   ]
  },
  {
   "cell_type": "code",
   "execution_count": 4,
   "id": "5f075abf",
   "metadata": {},
   "outputs": [
    {
     "name": "stdout",
     "output_type": "stream",
     "text": [
      "18.2\n"
     ]
    }
   ],
   "source": [
    "print(myseries['day9']*2)"
   ]
  },
  {
   "cell_type": "code",
   "execution_count": 5,
   "id": "067b9fe5",
   "metadata": {},
   "outputs": [
    {
     "name": "stdout",
     "output_type": "stream",
     "text": [
      "day1    1.5\n",
      "day2    2.0\n",
      "day3    3.0\n",
      "day4    4.5\n",
      "day5    5.0\n",
      "day6    6.0\n",
      "day7    1.5\n",
      "day8    8.0\n",
      "day9    9.1\n",
      "dtype: float64\n"
     ]
    }
   ],
   "source": [
    "myseries[['day1','day7']] = 1.5\n",
    "print(myseries)"
   ]
  },
  {
   "cell_type": "code",
   "execution_count": null,
   "id": "96f1f45e",
   "metadata": {},
   "outputs": [],
   "source": []
  }
 ],
 "metadata": {
  "kernelspec": {
   "display_name": "Python 3 (ipykernel)",
   "language": "python",
   "name": "python3"
  },
  "language_info": {
   "codemirror_mode": {
    "name": "ipython",
    "version": 3
   },
   "file_extension": ".py",
   "mimetype": "text/x-python",
   "name": "python",
   "nbconvert_exporter": "python",
   "pygments_lexer": "ipython3",
   "version": "3.9.12"
  },
  "vscode": {
   "interpreter": {
    "hash": "a077222d77dfe082b8f1dd562ad70e458ac2ab76993a0b248ab0476e32e9e8dd"
   }
  }
 },
 "nbformat": 4,
 "nbformat_minor": 5
}
